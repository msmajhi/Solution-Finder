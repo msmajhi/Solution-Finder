{
  "nbformat": 4,
  "nbformat_minor": 0,
  "metadata": {
    "colab": {
      "provenance": [],
      "gpuType": "T4",
      "authorship_tag": "ABX9TyMG62UQF5Ou4hBNfZi09Coy",
      "include_colab_link": true
    },
    "kernelspec": {
      "name": "python3",
      "display_name": "Python 3"
    },
    "language_info": {
      "name": "python"
    }
  },
  "cells": [
    {
      "cell_type": "markdown",
      "metadata": {
        "id": "view-in-github",
        "colab_type": "text"
      },
      "source": [
        "<a href=\"https://colab.research.google.com/github/msmajhi/Solutions_Finder/blob/main/Solutions_Finder.ipynb\" target=\"_parent\"><img src=\"https://colab.research.google.com/assets/colab-badge.svg\" alt=\"Open In Colab\"/></a>"
      ]
    },
    {
      "cell_type": "code",
      "source": [
        "# @title **🔎 Solution Finder** <br> ✅ Currently Supports: [numerade.com](https://www.numerade.com) <br> ⬇️ Start the Process by Running this cell { display-mode: \"form\" }\n",
        "\n",
        "\n",
        "import codecs\n",
        "repo_rot13 = \"uggcf://tvguho.pbz/zfznwuv/Fbyhgvbaf_Svaqre\"\n",
        "repo = codecs.decode(repo_rot13, 'rot_13')\n",
        "\n",
        "branch_to_clone = \"main\"\n",
        "\n",
        "!git clone $repo --branch $branch_to_clone --single-branch"
      ],
      "metadata": {
        "id": "w2VrcUstLW-G"
      },
      "execution_count": null,
      "outputs": []
    },
    {
      "cell_type": "code",
      "source": [
        "# @title 🔗 Enter the fields and Run the cell { display-mode: \"form\" }\n",
        "site = \"numerade.com\" # @param [\"numerade.com\"]\n",
        "url = \"\" # @param {type:\"string\", placeholder:\"Paste the url of the question\"}\n",
        "\n",
        "\n",
        "!python Solutions_Finder/main.py \"$url\" \"$site\"\n",
        "\n",
        "if site == \"numerade.com\":\n",
        "  from Solutions_Finder.numerade.display import display_solution as numerade_display\n",
        "  numerade_display()"
      ],
      "metadata": {
        "id": "BI4lL0Za7VXT"
      },
      "execution_count": null,
      "outputs": []
    }
  ]
}